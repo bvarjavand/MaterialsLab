{
 "cells": [
  {
   "cell_type": "code",
   "execution_count": 1,
   "metadata": {
    "collapsed": true
   },
   "outputs": [],
   "source": [
    "import matplotlib.pyplot as plt  \n",
    "import pandas as pd\n",
    "import numpy as np\n",
    "\n",
    "data = pd.read_csv(\"metaltemp.csv\")"
   ]
  },
  {
   "cell_type": "code",
   "execution_count": 2,
   "metadata": {
    "collapsed": false
   },
   "outputs": [
    {
     "name": "stdout",
     "output_type": "stream",
     "text": [
      "(2056, 12)\n"
     ]
    }
   ],
   "source": [
    "print data.shape"
   ]
  },
  {
   "cell_type": "code",
   "execution_count": 3,
   "metadata": {
    "collapsed": false
   },
   "outputs": [],
   "source": [
    "tableau20 = [(31, 119, 180), (174, 199, 232), (255, 127, 14), (255, 187, 120),  \n",
    "             (44, 160, 44), (152, 223, 138), (214, 39, 40), (255, 152, 150),  \n",
    "             (148, 103, 189), (197, 176, 213), (140, 86, 75), (196, 156, 148),  \n",
    "             (227, 119, 194), (247, 182, 210), (127, 127, 127), (199, 199, 199),  \n",
    "             (188, 189, 34), (219, 219, 141), (23, 190, 207), (158, 218, 229)]\n",
    "\n",
    "for i in range(len(tableau20)):  \n",
    "    r, g, b = tableau20[i]  \n",
    "    tableau20[i] = (r / 255., g / 255., b / 255.)"
   ]
  },
  {
   "cell_type": "code",
   "execution_count": 4,
   "metadata": {
    "collapsed": false
   },
   "outputs": [
    {
     "data": {
      "text/plain": [
       "<matplotlib.figure.Figure at 0x856fdd8>"
      ]
     },
     "execution_count": 4,
     "metadata": {},
     "output_type": "execute_result"
    }
   ],
   "source": [
    "plt.figure(figsize=(12, 9))"
   ]
  },
  {
   "cell_type": "code",
   "execution_count": 5,
   "metadata": {
    "collapsed": true
   },
   "outputs": [],
   "source": [
    "ax = plt.subplot(111)    \n",
    "ax.spines[\"top\"].set_visible(False)    \n",
    "ax.spines[\"bottom\"].set_visible(False)    \n",
    "ax.spines[\"right\"].set_visible(False)    \n",
    "ax.spines[\"left\"].set_visible(False)"
   ]
  },
  {
   "cell_type": "code",
   "execution_count": 6,
   "metadata": {
    "collapsed": true
   },
   "outputs": [],
   "source": [
    "ax.get_xaxis().tick_bottom()    \n",
    "ax.get_yaxis().tick_left()"
   ]
  },
  {
   "cell_type": "code",
   "execution_count": 7,
   "metadata": {
    "collapsed": false
   },
   "outputs": [
    {
     "data": {
      "text/plain": [
       "(array([ 0. ,  0.2,  0.4,  0.6,  0.8,  1. ]),\n",
       " <a list of 6 Text xticklabel objects>)"
      ]
     },
     "execution_count": 7,
     "metadata": {},
     "output_type": "execute_result"
    }
   ],
   "source": [
    "plt.yticks(fontsize=14)\n",
    "plt.xticks(fontsize=14)"
   ]
  },
  {
   "cell_type": "code",
   "execution_count": 8,
   "metadata": {
    "collapsed": false
   },
   "outputs": [
    {
     "name": "stdout",
     "output_type": "stream",
     "text": [
      "50000000.0\n"
     ]
    }
   ],
   "source": [
    "print 5E7"
   ]
  },
  {
   "cell_type": "code",
   "execution_count": 9,
   "metadata": {
    "collapsed": true
   },
   "outputs": [],
   "source": [
    "for y in [5E6,10E6,15E6,20E6,25E6,30E6,35E6,40E6,45E6,495E5]:    \n",
    "    plt.plot(range(0,350), [y] * len(range(0,350)), \"--\", lw=0.5, color=\"black\", alpha=0.3)"
   ]
  },
  {
   "cell_type": "code",
   "execution_count": 10,
   "metadata": {
    "collapsed": true
   },
   "outputs": [],
   "source": [
    "materials = ['Copper', 'Brass', 'Titanium', 'Bronze', 'Steel', 'Aluminum']"
   ]
  },
  {
   "cell_type": "code",
   "execution_count": 11,
   "metadata": {
    "collapsed": false
   },
   "outputs": [],
   "source": [
    "for rank, column in enumerate(materials):\n",
    "    ind1 = ~np.isnan(data.values[:,2*rank])\n",
    "    ind2 = ~np.isnan(data.values[:,2*rank+1])\n",
    "    plt.plot(data.values[ind1,2*rank],    \n",
    "             data.values[ind2,2*rank+1],    \n",
    "             lw=2.5, color=tableau20[rank])\n",
    "    val1 = data.values[ind1,2*rank]\n",
    "    val2 = data.values[ind2,2*rank+1]\n",
    "    x_pos = val1[-1]\n",
    "    y_pos = val2[-1]\n",
    "    if column == 'Steel':\n",
    "        x_pos += 5\n",
    "    if column == 'Titanium':\n",
    "        x_pos -= 20\n",
    "        y_pos += 1300000\n",
    "    if column == 'Copper':\n",
    "        y_pos += 1300000\n",
    "    if column == 'Bronze':\n",
    "        y_pos -= 1500000\n",
    "        x_pos -= 10\n",
    "    if column == 'Brass':\n",
    "        x_pos += 14\n",
    "    if column == 'Aluminum':\n",
    "        y_pos += 1500000\n",
    "    plt.text(x_pos,y_pos,column,fontsize=20,color=tableau20[rank])"
   ]
  },
  {
   "cell_type": "code",
   "execution_count": 12,
   "metadata": {
    "collapsed": false
   },
   "outputs": [
    {
     "data": {
      "text/plain": [
       "<matplotlib.text.Text at 0x86e3e48>"
      ]
     },
     "execution_count": 12,
     "metadata": {},
     "output_type": "execute_result"
    }
   ],
   "source": [
    "plt.xlabel('Temperature(K)',fontsize=20)\n",
    "plt.ylabel('Conductivity(S/m)',fontsize=20)\n",
    "plt.title('Relationship between Temperature and Conductivity',fontsize=20)"
   ]
  },
  {
   "cell_type": "code",
   "execution_count": 13,
   "metadata": {
    "collapsed": true
   },
   "outputs": [],
   "source": [
    "plt.savefig('lab1b.png')"
   ]
  },
  {
   "cell_type": "code",
   "execution_count": 14,
   "metadata": {
    "collapsed": false
   },
   "outputs": [],
   "source": [
    "#plt.show()"
   ]
  },
  {
   "cell_type": "code",
   "execution_count": 15,
   "metadata": {
    "collapsed": true
   },
   "outputs": [],
   "source": [
    "data2 = pd.read_csv(\"semis.csv\")"
   ]
  },
  {
   "cell_type": "code",
   "execution_count": 16,
   "metadata": {
    "collapsed": false
   },
   "outputs": [
    {
     "name": "stdout",
     "output_type": "stream",
     "text": [
      "(2474, 6)\n"
     ]
    }
   ],
   "source": [
    "print data2.shape"
   ]
  },
  {
   "cell_type": "code",
   "execution_count": 17,
   "metadata": {
    "collapsed": false
   },
   "outputs": [
    {
     "name": "stdout",
     "output_type": "stream",
     "text": [
      "(2474L, 6L)\n"
     ]
    }
   ],
   "source": [
    "print data2.values.shape"
   ]
  },
  {
   "cell_type": "code",
   "execution_count": 18,
   "metadata": {
    "collapsed": false
   },
   "outputs": [
    {
     "data": {
      "text/plain": [
       "(0, 300)"
      ]
     },
     "execution_count": 18,
     "metadata": {},
     "output_type": "execute_result"
    }
   ],
   "source": [
    "plt.figure(figsize=(12, 9))\n",
    "\n",
    "ax = plt.subplot(111)    \n",
    "ax.spines[\"top\"].set_visible(False)    \n",
    "ax.spines[\"bottom\"].set_visible(False)    \n",
    "ax.spines[\"right\"].set_visible(False)    \n",
    "ax.spines[\"left\"].set_visible(False)\n",
    "ax.get_xaxis().tick_bottom()    \n",
    "ax.get_yaxis().tick_left()\n",
    "\n",
    "plt.yticks(fontsize=14)#???\n",
    "plt.xticks(fontsize=14)\n",
    "\n",
    "plt.ylim(0,30)\n",
    "plt.xlim(0,300)"
   ]
  },
  {
   "cell_type": "code",
   "execution_count": 19,
   "metadata": {
    "collapsed": true
   },
   "outputs": [],
   "source": [
    "semic = ['2k$\\Omega$','1-50$\\Omega$','4-7$\\Omega$']"
   ]
  },
  {
   "cell_type": "code",
   "execution_count": 20,
   "metadata": {
    "collapsed": false
   },
   "outputs": [],
   "source": [
    "for rank, column in enumerate(semic):\n",
    "    ind1 = ~np.isnan(data2.values[:,2*rank])\n",
    "    ind2 = ~np.isnan(data2.values[:,2*rank+1])\n",
    "    plt.plot(data2.values[ind1,2*rank],    \n",
    "             data2.values[ind2,2*rank+1],    \n",
    "             lw=2.5, color=tableau20[rank])\n",
    "    val1 = data2.values[ind1,2*rank]\n",
    "    val2 = data2.values[ind2,2*rank+1]\n",
    "    x_pos = val1[-1]\n",
    "    y_pos = val2[-1]\n",
    "    \n",
    "    plt.text(x_pos,y_pos,column,fontsize=20,color=tableau20[rank])"
   ]
  },
  {
   "cell_type": "code",
   "execution_count": 21,
   "metadata": {
    "collapsed": false
   },
   "outputs": [
    {
     "data": {
      "text/plain": [
       "<matplotlib.text.Text at 0x99ddc18>"
      ]
     },
     "execution_count": 21,
     "metadata": {},
     "output_type": "execute_result"
    }
   ],
   "source": [
    "plt.xlabel('Temperature(K)',fontsize=20)\n",
    "plt.ylabel('Conductivity(S/m)',fontsize=20)\n",
    "plt.title('Conductivity-temperature relationship for Semiconductors',fontsize=20)"
   ]
  },
  {
   "cell_type": "code",
   "execution_count": 22,
   "metadata": {
    "collapsed": true
   },
   "outputs": [],
   "source": [
    "for y in [5,10,15,20,25,29.9]:    \n",
    "    plt.plot(range(0,300), [y] * len(range(0,300)), \"--\", lw=0.5, color=\"black\", alpha=0.3)"
   ]
  },
  {
   "cell_type": "code",
   "execution_count": 23,
   "metadata": {
    "collapsed": false
   },
   "outputs": [],
   "source": [
    "#plt.show()\n",
    "plt.savefig('semiconductors2.png')"
   ]
  },
  {
   "cell_type": "code",
   "execution_count": 24,
   "metadata": {
    "collapsed": false
   },
   "outputs": [
    {
     "data": {
      "text/plain": [
       "(-4, 8)"
      ]
     },
     "execution_count": 24,
     "metadata": {},
     "output_type": "execute_result"
    }
   ],
   "source": [
    "plt.figure(figsize=(12, 9))\n",
    "\n",
    "ax = plt.subplot(111)    \n",
    "ax.spines[\"top\"].set_visible(False)    \n",
    "ax.spines[\"bottom\"].set_visible(False)    \n",
    "ax.spines[\"right\"].set_visible(False)    \n",
    "ax.spines[\"left\"].set_visible(False)\n",
    "ax.get_xaxis().tick_bottom()    \n",
    "ax.get_yaxis().tick_left()\n",
    "\n",
    "plt.yticks(fontsize=14)#???\n",
    "plt.xticks(fontsize=14)\n",
    "\n",
    "plt.xlim(0,350)\n",
    "plt.ylim(-4,8)"
   ]
  },
  {
   "cell_type": "code",
   "execution_count": 25,
   "metadata": {
    "collapsed": true
   },
   "outputs": [],
   "source": [
    "mats = ['Copper', 'Brass', 'Titanium', 'Bronze', 'Steel', 'Aluminum', '2k$\\Omega$', '1-50$\\Omega$', '4-7$\\Omega$']"
   ]
  },
  {
   "cell_type": "code",
   "execution_count": 26,
   "metadata": {
    "collapsed": false
   },
   "outputs": [
    {
     "name": "stdout",
     "output_type": "stream",
     "text": [
      "(2056L, 12L)\n",
      "(2474L, 6L)\n"
     ]
    }
   ],
   "source": [
    "print data.values.shape\n",
    "print data2.values.shape\n",
    "data3 = np.concatenate((data.values,data2.values[:2056,:]),axis=1)"
   ]
  },
  {
   "cell_type": "code",
   "execution_count": 27,
   "metadata": {
    "collapsed": false
   },
   "outputs": [
    {
     "name": "stdout",
     "output_type": "stream",
     "text": [
      "[ 1.81932208  6.7086297   1.42038671  6.91803545  1.60787162  6.17465517\n",
      "  1.96135529  7.66196894  1.9164954   5.9215758   1.62150594  7.06636943\n",
      "  1.8292943  -2.63247449  1.55375638 -1.3190778   1.33703192 -0.71280295]\n"
     ]
    }
   ],
   "source": [
    "print np.log10(data3[0,:])"
   ]
  },
  {
   "cell_type": "code",
   "execution_count": 28,
   "metadata": {
    "collapsed": false
   },
   "outputs": [],
   "source": [
    "for rank, column in enumerate(mats):\n",
    "    ind1 = ~np.isnan(data3[:,2*rank])\n",
    "    ind2 = ~np.isnan(data3[:,2*rank+1])\n",
    "    plt.plot(data3[ind1,2*rank],    \n",
    "             np.log10(data3[ind2,2*rank+1]),    \n",
    "             lw=2.5, color=tableau20[rank])\n",
    "    val1 = data3[ind1,2*rank]\n",
    "    val2 = np.log10(data3[ind2,2*rank+1])\n",
    "    x_pos = val1[-1]\n",
    "    y_pos = val2[-1]\n",
    "    \n",
    "    plt.text(x_pos,y_pos,column,fontsize=20,color=tableau20[rank])"
   ]
  },
  {
   "cell_type": "code",
   "execution_count": 29,
   "metadata": {
    "collapsed": true
   },
   "outputs": [],
   "source": [
    "for y in [-2,0,2,4,6,7.99]:    \n",
    "    plt.plot(range(0,350), [y] * len(range(0,350)), \"--\", lw=0.5, color=\"black\", alpha=0.3)"
   ]
  },
  {
   "cell_type": "code",
   "execution_count": 30,
   "metadata": {
    "collapsed": false
   },
   "outputs": [
    {
     "data": {
      "text/plain": [
       "<matplotlib.text.Text at 0xa019278>"
      ]
     },
     "execution_count": 30,
     "metadata": {},
     "output_type": "execute_result"
    }
   ],
   "source": [
    "plt.xlabel('Temperature(K)',fontsize=20)\n",
    "plt.ylabel('Conductivity(S/m)',fontsize=20)\n",
    "plt.title('Spectrum of Conductivities',fontsize=20)"
   ]
  },
  {
   "cell_type": "code",
   "execution_count": 31,
   "metadata": {
    "collapsed": true
   },
   "outputs": [],
   "source": [
    "plt.savefig('allmats.png')"
   ]
  },
  {
   "cell_type": "code",
   "execution_count": null,
   "metadata": {
    "collapsed": true
   },
   "outputs": [],
   "source": []
  }
 ],
 "metadata": {
  "kernelspec": {
   "display_name": "Python 2",
   "language": "python",
   "name": "python2"
  },
  "language_info": {
   "codemirror_mode": {
    "name": "ipython",
    "version": 2
   },
   "file_extension": ".py",
   "mimetype": "text/x-python",
   "name": "python",
   "nbconvert_exporter": "python",
   "pygments_lexer": "ipython2",
   "version": "2.7.11"
  }
 },
 "nbformat": 4,
 "nbformat_minor": 0
}
