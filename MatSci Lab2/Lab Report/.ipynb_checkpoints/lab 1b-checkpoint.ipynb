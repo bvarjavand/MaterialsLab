{
 "cells": [
  {
   "cell_type": "code",
   "execution_count": 1,
   "metadata": {
    "collapsed": true
   },
   "outputs": [],
   "source": [
    "import matplotlib.pyplot as plt  \n",
    "import pandas as pd\n",
    "import numpy as np\n",
    "\n",
    "data = pd.read_csv(\"metaltemp.csv\")"
   ]
  },
  {
   "cell_type": "code",
   "execution_count": 2,
   "metadata": {
    "collapsed": false
   },
   "outputs": [
    {
     "name": "stdout",
     "output_type": "stream",
     "text": [
      "(2056, 12)\n"
     ]
    }
   ],
   "source": [
    "print data.shape"
   ]
  },
  {
   "cell_type": "code",
   "execution_count": 3,
   "metadata": {
    "collapsed": false
   },
   "outputs": [],
   "source": [
    "tableau20 = [(31, 119, 180), (174, 199, 232), (255, 127, 14), (255, 187, 120),  \n",
    "             (44, 160, 44), (152, 223, 138), (214, 39, 40), (255, 152, 150),  \n",
    "             (148, 103, 189), (197, 176, 213), (140, 86, 75), (196, 156, 148),  \n",
    "             (227, 119, 194), (247, 182, 210), (127, 127, 127), (199, 199, 199),  \n",
    "             (188, 189, 34), (219, 219, 141), (23, 190, 207), (158, 218, 229)]\n",
    "\n",
    "for i in range(len(tableau20)):  \n",
    "    r, g, b = tableau20[i]  \n",
    "    tableau20[i] = (r / 255., g / 255., b / 255.)"
   ]
  },
  {
   "cell_type": "code",
   "execution_count": 4,
   "metadata": {
    "collapsed": false
   },
   "outputs": [
    {
     "data": {
      "text/plain": [
       "<matplotlib.figure.Figure at 0x85dcdd8>"
      ]
     },
     "execution_count": 4,
     "metadata": {},
     "output_type": "execute_result"
    }
   ],
   "source": [
    "plt.figure(figsize=(12, 9))"
   ]
  },
  {
   "cell_type": "code",
   "execution_count": 5,
   "metadata": {
    "collapsed": true
   },
   "outputs": [],
   "source": [
    "ax = plt.subplot(111)    \n",
    "ax.spines[\"top\"].set_visible(False)    \n",
    "ax.spines[\"bottom\"].set_visible(False)    \n",
    "ax.spines[\"right\"].set_visible(False)    \n",
    "ax.spines[\"left\"].set_visible(False)"
   ]
  },
  {
   "cell_type": "code",
   "execution_count": 6,
   "metadata": {
    "collapsed": true
   },
   "outputs": [],
   "source": [
    "ax.get_xaxis().tick_bottom()    \n",
    "ax.get_yaxis().tick_left()"
   ]
  },
  {
   "cell_type": "code",
   "execution_count": 7,
   "metadata": {
    "collapsed": false
   },
   "outputs": [
    {
     "data": {
      "text/plain": [
       "(array([ 0. ,  0.2,  0.4,  0.6,  0.8,  1. ]),\n",
       " <a list of 6 Text xticklabel objects>)"
      ]
     },
     "execution_count": 7,
     "metadata": {},
     "output_type": "execute_result"
    }
   ],
   "source": [
    "plt.yticks(fontsize=14)\n",
    "plt.xticks(fontsize=14)"
   ]
  },
  {
   "cell_type": "code",
   "execution_count": 8,
   "metadata": {
    "collapsed": false
   },
   "outputs": [
    {
     "name": "stdout",
     "output_type": "stream",
     "text": [
      "50000000.0\n"
     ]
    }
   ],
   "source": [
    "print 5E7"
   ]
  },
  {
   "cell_type": "code",
   "execution_count": 9,
   "metadata": {
    "collapsed": true
   },
   "outputs": [],
   "source": [
    "for y in [5E6,10E6,15E6,20E6,25E6,30E6,35E6,40E6,45E6,495E5]:    \n",
    "    plt.plot(range(0,350), [y] * len(range(0,350)), \"--\", lw=0.5, color=\"black\", alpha=0.3)"
   ]
  },
  {
   "cell_type": "code",
   "execution_count": 10,
   "metadata": {
    "collapsed": true
   },
   "outputs": [],
   "source": [
    "materials = ['Copper', 'Brass', 'Titanium', 'Bronze', 'Steel', 'Aluminum']"
   ]
  },
  {
   "cell_type": "code",
   "execution_count": 11,
   "metadata": {
    "collapsed": false
   },
   "outputs": [],
   "source": [
    "for rank, column in enumerate(materials):\n",
    "    ind1 = ~np.isnan(data.values[:,2*rank])\n",
    "    ind2 = ~np.isnan(data.values[:,2*rank+1])\n",
    "    plt.plot(data.values[ind1,2*rank],    \n",
    "             data.values[ind2,2*rank+1],    \n",
    "             lw=2.5, color=tableau20[rank])\n",
    "    val1 = data.values[ind1,2*rank]\n",
    "    val2 = data.values[ind2,2*rank+1]\n",
    "    x_pos = val1[-1]\n",
    "    y_pos = val2[-1]\n",
    "    if column == 'Steel':\n",
    "        x_pos += 5\n",
    "    if column == 'Titanium':\n",
    "        x_pos -= 20\n",
    "        y_pos += 1300000\n",
    "    if column == 'Copper':\n",
    "        y_pos += 1300000\n",
    "    if column == 'Bronze':\n",
    "        y_pos -= 1500000\n",
    "        x_pos -= 10\n",
    "    if column == 'Brass':\n",
    "        x_pos += 14\n",
    "    if column == 'Aluminum':\n",
    "        y_pos += 1500000\n",
    "    plt.text(x_pos,y_pos,column,fontsize=20,color=tableau20[rank])"
   ]
  },
  {
   "cell_type": "code",
   "execution_count": 12,
   "metadata": {
    "collapsed": false
   },
   "outputs": [
    {
     "data": {
      "text/plain": [
       "<matplotlib.text.Text at 0x8762e48>"
      ]
     },
     "execution_count": 12,
     "metadata": {},
     "output_type": "execute_result"
    }
   ],
   "source": [
    "plt.xlabel('Temperature(K)',fontsize=20)\n",
    "plt.ylabel('Conductivity(S/m)',fontsize=20)\n",
    "plt.title('Relationship between Temperature and Conductivity',fontsize=20)"
   ]
  },
  {
   "cell_type": "code",
   "execution_count": 13,
   "metadata": {
    "collapsed": true
   },
   "outputs": [],
   "source": [
    "plt.savefig('lab1b.png')"
   ]
  },
  {
   "cell_type": "code",
   "execution_count": 14,
   "metadata": {
    "collapsed": false
   },
   "outputs": [],
   "source": [
    "#plt.show()"
   ]
  },
  {
   "cell_type": "code",
   "execution_count": 15,
   "metadata": {
    "collapsed": true
   },
   "outputs": [],
   "source": [
    "data = pd.read_csv(\"semiconductor.csv\")"
   ]
  },
  {
   "cell_type": "code",
   "execution_count": null,
   "metadata": {
    "collapsed": false
   },
   "outputs": [],
   "source": [
    "print data.shape\n",
    "print data"
   ]
  },
  {
   "cell_type": "code",
   "execution_count": 17,
   "metadata": {
    "collapsed": false
   },
   "outputs": [
    {
     "data": {
      "text/plain": [
       "(array([ 0. ,  0.2,  0.4,  0.6,  0.8,  1. ]),\n",
       " <a list of 6 Text xticklabel objects>)"
      ]
     },
     "execution_count": 17,
     "metadata": {},
     "output_type": "execute_result"
    }
   ],
   "source": [
    "plt.figure(figsize=(12, 9))\n",
    "\n",
    "ax = plt.subplot(111)    \n",
    "ax.spines[\"top\"].set_visible(False)    \n",
    "ax.spines[\"bottom\"].set_visible(False)    \n",
    "ax.spines[\"right\"].set_visible(False)    \n",
    "ax.spines[\"left\"].set_visible(False)\n",
    "ax.get_xaxis().tick_bottom()    \n",
    "ax.get_yaxis().tick_left()\n",
    "\n",
    "plt.yticks(fontsize=14)#???\n",
    "plt.xticks(fontsize=14)"
   ]
  },
  {
   "cell_type": "code",
   "execution_count": 18,
   "metadata": {
    "collapsed": true
   },
   "outputs": [],
   "source": [
    "materials = ['2k$\\Omega$','4-7k$\\Omega$','1-50k$\\Omega$','4-7$\\Omega$']"
   ]
  },
  {
   "cell_type": "code",
   "execution_count": 19,
   "metadata": {
    "collapsed": false
   },
   "outputs": [
    {
     "name": "stdout",
     "output_type": "stream",
     "text": [
      "      Tuesday over 2K  Unnamed: 1  Tuesday 4-7 kohm  Unnamed: 3  \\\n",
      "0           73.753654   33.929105        125.163979    0.062669   \n",
      "1           73.894806   33.893088        125.440559    0.062777   \n",
      "2           74.023293   33.118788        125.715981    0.062798   \n",
      "3           74.135178   33.221750        125.997185    0.062971   \n",
      "4           74.264557   32.445878        126.268433    0.062910   \n",
      "5           74.392746   33.361178        126.543961    0.063400   \n",
      "6           74.530586   32.478420        126.811340    0.063153   \n",
      "7           74.642159   32.247957        127.058418    0.063277   \n",
      "8           74.784813   31.485359        127.316139    0.063322   \n",
      "9           74.924477   31.957769        127.548912    0.063521   \n",
      "10          75.066513   31.829242        127.803970    0.063493   \n",
      "11          75.218224   31.086109        128.047775    0.063723   \n",
      "12          75.358772   30.726683        128.283112    0.063703   \n",
      "13          75.503517   31.608662        128.529129    0.063732   \n",
      "14          75.633522   30.578321        128.778214    0.063918   \n",
      "15          75.780098   30.260190        129.018814    0.063941   \n",
      "16          75.927872   30.548766        129.250015    0.064042   \n",
      "17          76.078682   30.403482        129.489746    0.064200   \n",
      "18          76.218628   30.172837        129.737152    0.064231   \n",
      "19          76.369720   30.087504        129.960220    0.064258   \n",
      "20          76.522636   29.946567        130.169281    0.064359   \n",
      "21          76.670135   29.259913        130.396347    0.064571   \n",
      "22          76.812485   28.604042        130.625595    0.064658   \n",
      "23          76.965088   28.375594        130.849670    0.064695   \n",
      "24          77.122849   28.810431        131.069199    0.064806   \n",
      "25          77.280579   28.758443        131.283585    0.064768   \n",
      "26          77.425041   28.248648        131.505310    0.064835   \n",
      "27          77.571022   27.976797        131.726440    0.064996   \n",
      "28          77.732101   28.731853        131.950363    0.065381   \n",
      "29          77.876884   27.074344        132.170944    0.065001   \n",
      "...               ...         ...               ...         ...   \n",
      "3455              NaN         NaN               NaN         NaN   \n",
      "3456              NaN         NaN               NaN         NaN   \n",
      "3457              NaN         NaN               NaN         NaN   \n",
      "3458              NaN         NaN               NaN         NaN   \n",
      "3459              NaN         NaN               NaN         NaN   \n",
      "3460              NaN         NaN               NaN         NaN   \n",
      "3461              NaN         NaN               NaN         NaN   \n",
      "3462              NaN         NaN               NaN         NaN   \n",
      "3463              NaN         NaN               NaN         NaN   \n",
      "3464              NaN         NaN               NaN         NaN   \n",
      "3465              NaN         NaN               NaN         NaN   \n",
      "3466              NaN         NaN               NaN         NaN   \n",
      "3467              NaN         NaN               NaN         NaN   \n",
      "3468              NaN         NaN               NaN         NaN   \n",
      "3469              NaN         NaN               NaN         NaN   \n",
      "3470              NaN         NaN               NaN         NaN   \n",
      "3471              NaN         NaN               NaN         NaN   \n",
      "3472              NaN         NaN               NaN         NaN   \n",
      "3473              NaN         NaN               NaN         NaN   \n",
      "3474              NaN         NaN               NaN         NaN   \n",
      "3475              NaN         NaN               NaN         NaN   \n",
      "3476              NaN         NaN               NaN         NaN   \n",
      "3477              NaN         NaN               NaN         NaN   \n",
      "3478              NaN         NaN               NaN         NaN   \n",
      "3479              NaN         NaN               NaN         NaN   \n",
      "3480              NaN         NaN               NaN         NaN   \n",
      "3481              NaN         NaN               NaN         NaN   \n",
      "3482              NaN         NaN               NaN         NaN   \n",
      "3483              NaN         NaN               NaN         NaN   \n",
      "3484              NaN         NaN               NaN         NaN   \n",
      "\n",
      "      Thursday 1-50 kohm  Unnamed: 5  Thursday 4-7  Unnamed: 7  \n",
      "0              35.789562   20.845150     21.728609    0.000564  \n",
      "1              35.972977   21.192209     21.743389    0.000590  \n",
      "2              36.258484   21.068503     21.734770    0.000591  \n",
      "3              36.682652   20.948106     21.740606    0.000589  \n",
      "4              37.066368   20.825371     21.734148    0.000589  \n",
      "5              37.468067   20.575160     21.735689    0.000586  \n",
      "6              37.868393   20.463638     21.735689    0.000588  \n",
      "7              38.267384   20.259513     21.734770    0.000587  \n",
      "8              38.626904   20.036113     21.738148    0.000587  \n",
      "9              38.973431   19.875508     21.735067    0.000585  \n",
      "10             39.342846   19.660782     21.740311    0.000585  \n",
      "11             39.703884   19.507871     21.745550    0.000587  \n",
      "12             40.100975   19.275070     21.741848    0.000589  \n",
      "13             40.407497   19.129753     21.745226    0.000588  \n",
      "14             40.844791   18.869233     21.742470    0.000588  \n",
      "15             41.216385   18.636986     21.742767    0.000587  \n",
      "16             41.555080   18.398909     21.747389    0.000586  \n",
      "17             41.982750   18.146364     21.749847    0.000586  \n",
      "18             42.405685   17.937923     21.744930    0.000584  \n",
      "19             42.806152   17.598041     21.743687    0.000586  \n",
      "20             43.167027   17.378142     21.745550    0.000590  \n",
      "21             43.510674   17.121731     21.750467    0.000589  \n",
      "22             43.849358   16.837520     21.747686    0.000590  \n",
      "23             44.254219   16.553771     21.747686    0.000589  \n",
      "24             44.647976   16.238589     21.749847    0.000589  \n",
      "25             44.982971   16.009106     21.748308    0.000588  \n",
      "26             45.310242   15.891539     21.749847    0.000587  \n",
      "27             45.699707   15.551698     21.745226    0.000586  \n",
      "28             46.060062   15.325557     21.754467    0.000589  \n",
      "29             46.421223   15.151985     21.749847    0.000590  \n",
      "...                  ...         ...           ...         ...  \n",
      "3455                 NaN         NaN    385.281830    0.000003  \n",
      "3456                 NaN         NaN    385.353302    0.000003  \n",
      "3457                 NaN         NaN    385.424255    0.000003  \n",
      "3458                 NaN         NaN    385.458374    0.000003  \n",
      "3459                 NaN         NaN    385.516296    0.000003  \n",
      "3460                 NaN         NaN    385.590759    0.000003  \n",
      "3461                 NaN         NaN    385.666351    0.000003  \n",
      "3462                 NaN         NaN    385.756348    0.000003  \n",
      "3463                 NaN         NaN    385.796356    0.000003  \n",
      "3464                 NaN         NaN    385.861969    0.000003  \n",
      "3465                 NaN         NaN    385.957611    0.000003  \n",
      "3466                 NaN         NaN    386.050537    0.000003  \n",
      "3467                 NaN         NaN    386.186707    0.000003  \n",
      "3468                 NaN         NaN    386.312653    0.000003  \n",
      "3469                 NaN         NaN    386.408539    0.000003  \n",
      "3470                 NaN         NaN    386.496490    0.000003  \n",
      "3471                 NaN         NaN    386.582947    0.000003  \n",
      "3472                 NaN         NaN    386.682098    0.000003  \n",
      "3473                 NaN         NaN    386.770020    0.000003  \n",
      "3474                 NaN         NaN    386.826782    0.000003  \n",
      "3475                 NaN         NaN    386.905304    0.000003  \n",
      "3476                 NaN         NaN    386.973846    0.000003  \n",
      "3477                 NaN         NaN    387.064117    0.000003  \n",
      "3478                 NaN         NaN    387.127380    0.000003  \n",
      "3479                 NaN         NaN    387.137695    0.000003  \n",
      "3480                 NaN         NaN    387.213531    0.000003  \n",
      "3481                 NaN         NaN    387.304413    0.000003  \n",
      "3482                 NaN         NaN    387.352386    0.000003  \n",
      "3483                 NaN         NaN    387.477386    0.000003  \n",
      "3484                 NaN         NaN    387.603210    0.000003  \n",
      "\n",
      "[3485 rows x 8 columns]\n"
     ]
    }
   ],
   "source": [
    "print data"
   ]
  },
  {
   "cell_type": "code",
   "execution_count": null,
   "metadata": {
    "collapsed": false
   },
   "outputs": [],
   "source": [
    "for rank, column in enumerate(materials):\n",
    "    ind1 = ~np.isnan(data.values[:,2*rank])\n",
    "    ind2 = ~np.isnan(data.values[:,2*rank+1])\n",
    "    plt.plot(data.values[ind1,2*rank],    \n",
    "             data.values[ind2,2*rank+1],    \n",
    "             lw=2.5, color=tableau20[rank])\n",
    "    val1 = data.values[ind1,2*rank]\n",
    "    val2 = data.values[ind2,2*rank+1]\n",
    "    x_pos = val1[-1]\n",
    "    y_pos = val2[-1]\n",
    "    \n",
    "    plt.text(x_pos,y_pos,column,fontsize=20,color=tableau20[rank])"
   ]
  },
  {
   "cell_type": "code",
   "execution_count": null,
   "metadata": {
    "collapsed": true
   },
   "outputs": [],
   "source": [
    "plt.show()"
   ]
  },
  {
   "cell_type": "code",
   "execution_count": null,
   "metadata": {
    "collapsed": true
   },
   "outputs": [],
   "source": []
  }
 ],
 "metadata": {
  "kernelspec": {
   "display_name": "Python 2",
   "language": "python",
   "name": "python2"
  },
  "language_info": {
   "codemirror_mode": {
    "name": "ipython",
    "version": 2
   },
   "file_extension": ".py",
   "mimetype": "text/x-python",
   "name": "python",
   "nbconvert_exporter": "python",
   "pygments_lexer": "ipython2",
   "version": "2.7.11"
  }
 },
 "nbformat": 4,
 "nbformat_minor": 0
}
