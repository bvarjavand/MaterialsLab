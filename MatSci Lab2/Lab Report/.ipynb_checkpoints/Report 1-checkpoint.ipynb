{
 "cells": [
  {
   "cell_type": "code",
   "execution_count": 1,
   "metadata": {
    "collapsed": false
   },
   "outputs": [],
   "source": [
    "import matplotlib.pyplot as plt  \n",
    "import pandas as pd\n",
    "\n",
    "data = pd.read_csv(\"resistivity.csv\")"
   ]
  },
  {
   "cell_type": "code",
   "execution_count": 2,
   "metadata": {
    "collapsed": false
   },
   "outputs": [],
   "source": [
    "#print data"
   ]
  },
  {
   "cell_type": "code",
   "execution_count": 3,
   "metadata": {
    "collapsed": false
   },
   "outputs": [
    {
     "name": "stdout",
     "output_type": "stream",
     "text": [
      "           LI/A  Voltage (V)\n",
      "0  17743.209140     0.001956\n",
      "1  15114.585560     0.001638\n",
      "2  12485.961990     0.001359\n",
      "3   9857.338411     0.001078\n",
      "4   7228.714835     0.000786\n",
      "5   4600.091258     0.000501\n",
      "6   1971.467682     0.000211\n"
     ]
    }
   ],
   "source": [
    "Cu = data.iloc[0:7,:]\n",
    "print Cu\n",
    "Brass = data.iloc[8:15,:]\n",
    "#print Brass\n",
    "Ti = data.iloc[16:23,:]\n",
    "#print Ti\n",
    "PB = data.iloc[24:29,:]\n",
    "#print PB\n",
    "Steel = data.iloc[30:35,:]\n",
    "#print Steel\n",
    "Al = data.iloc[36:46,:]\n",
    "#print Al\n",
    "MTi = data.iloc[47:52,:]\n",
    "#print MTi"
   ]
  },
  {
   "cell_type": "code",
   "execution_count": 4,
   "metadata": {
    "collapsed": true
   },
   "outputs": [],
   "source": [
    "tableau20 = [(31, 119, 180), (174, 199, 232), (255, 127, 14), (255, 187, 120),  \n",
    "             (44, 160, 44), (152, 223, 138), (214, 39, 40), (255, 152, 150),  \n",
    "             (148, 103, 189), (197, 176, 213), (140, 86, 75), (196, 156, 148),  \n",
    "             (227, 119, 194), (247, 182, 210), (127, 127, 127), (199, 199, 199),  \n",
    "             (188, 189, 34), (219, 219, 141), (23, 190, 207), (158, 218, 229)]\n",
    "\n",
    "for i in range(len(tableau20)):  \n",
    "    r, g, b = tableau20[i]  \n",
    "    tableau20[i] = (r / 255., g / 255., b / 255.)"
   ]
  },
  {
   "cell_type": "code",
   "execution_count": 5,
   "metadata": {
    "collapsed": false
   },
   "outputs": [
    {
     "data": {
      "text/plain": [
       "<matplotlib.figure.Figure at 0x8420438>"
      ]
     },
     "execution_count": 5,
     "metadata": {},
     "output_type": "execute_result"
    }
   ],
   "source": [
    "plt.figure(figsize=(12, 9))"
   ]
  },
  {
   "cell_type": "code",
   "execution_count": 6,
   "metadata": {
    "collapsed": true
   },
   "outputs": [],
   "source": [
    "ax = plt.subplot(111)    \n",
    "ax.spines[\"top\"].set_visible(False)    \n",
    "ax.spines[\"bottom\"].set_visible(False)    \n",
    "ax.spines[\"right\"].set_visible(False)    \n",
    "ax.spines[\"left\"].set_visible(False)\n",
    "ax.get_xaxis().tick_bottom()    \n",
    "ax.get_yaxis().tick_left()\n",
    "#plt.ylim(0, 90)    \n",
    "#plt.xlim(1968, 2014)"
   ]
  },
  {
   "cell_type": "code",
   "execution_count": 7,
   "metadata": {
    "collapsed": false
   },
   "outputs": [
    {
     "data": {
      "text/plain": [
       "(array([ 0. ,  0.2,  0.4,  0.6,  0.8,  1. ]),\n",
       " <a list of 6 Text xticklabel objects>)"
      ]
     },
     "execution_count": 7,
     "metadata": {},
     "output_type": "execute_result"
    }
   ],
   "source": [
    "plt.yticks(fontsize=14)\n",
    "plt.xticks(fontsize=14)"
   ]
  },
  {
   "cell_type": "code",
   "execution_count": 8,
   "metadata": {
    "collapsed": false
   },
   "outputs": [
    {
     "data": {
      "text/plain": [
       "<matplotlib.text.Text at 0x868abe0>"
      ]
     },
     "execution_count": 8,
     "metadata": {},
     "output_type": "execute_result"
    }
   ],
   "source": [
    "plt.plot(Cu.values[:,0], Cu.values[:,1], lw=2.5, color=tableau20[0])\n",
    "plt.text(Cu.values[1,0]+3000, Cu.values[1,1], 'Copper', fontsize=20, color=tableau20[0])\n",
    "\n",
    "plt.plot(Brass.values[:,0], Brass.values[:,1], lw=2.5, color=tableau20[1])\n",
    "plt.text(Brass.values[1,0]-60, Brass.values[1,1]+.001, 'Brass', fontsize=20, color=tableau20[1])\n",
    "\n",
    "plt.plot(MTi.values[:,0], MTi.values[:,1], lw=2.5, color=tableau20[2])\n",
    "plt.text(MTi.values[1,0]+2000, MTi.values[1,1], 'Titanium', fontsize=20, color=tableau20[2])\n",
    "\n",
    "plt.plot(PB.values[:,0], PB.values[:,1], lw=2.5, color=tableau20[3])\n",
    "plt.text(PB.values[1,0]+5000, PB.values[1,1]+.001, 'Bronze', fontsize=20, color=tableau20[3])\n",
    "\n",
    "plt.plot(Steel.values[:,0], Steel.values[:,1], lw=2.5, color=tableau20[4])\n",
    "plt.text(Steel.values[1,0]+4000, Steel.values[1,1]+.001, 'Steel', fontsize=20, color=tableau20[4])\n",
    "\n",
    "plt.plot(Al.values[:,0], Al.values[:,1], lw=2.5, color=tableau20[5])\n",
    "plt.text(Al.values[1,0]+24000, Al.values[1,1]+.001, 'Aluminum', fontsize=20, color=tableau20[5])"
   ]
  },
  {
   "cell_type": "code",
   "execution_count": 9,
   "metadata": {
    "collapsed": false
   },
   "outputs": [],
   "source": [
    "for y in [.0016,.0032,.0048,.0064,.008,.0096,.0112,.0128,.0144,.0159]:    \n",
    "    plt.plot(range(0,60000), [y] * len(range(0,60000)), \"--\", lw=0.5, color=\"black\", alpha=0.3)"
   ]
  },
  {
   "cell_type": "code",
   "execution_count": 10,
   "metadata": {
    "collapsed": false
   },
   "outputs": [
    {
     "data": {
      "text/plain": [
       "<matplotlib.text.Text at 0x84e2128>"
      ]
     },
     "execution_count": 10,
     "metadata": {},
     "output_type": "execute_result"
    }
   ],
   "source": [
    "plt.title('Resistivity', fontsize=20)\n",
    "plt.xlabel('LI/A(amps/meter)', fontsize=20)\n",
    "plt.ylabel('Voltage(volts)', fontsize=20)"
   ]
  },
  {
   "cell_type": "code",
   "execution_count": 11,
   "metadata": {
    "collapsed": false
   },
   "outputs": [],
   "source": [
    "plt.savefig(\"resistivity.png\", bbox_inches=\"tight\")"
   ]
  },
  {
   "cell_type": "code",
   "execution_count": 12,
   "metadata": {
    "collapsed": false
   },
   "outputs": [],
   "source": [
    "x = [.031,.117,.164,.232,.307,.436,.856,1.592,2]\n",
    "y = [.058,.194,.281,.395,.521,.738,1.44,2.681,3.359]\n",
    "plt.figure(figsize=(12,9))\n",
    "ax = plt.subplot(111)\n",
    "ax.spines[\"top\"].set_visible(False)    \n",
    "ax.spines[\"bottom\"].set_visible(False)    \n",
    "ax.spines[\"right\"].set_visible(False)    \n",
    "ax.spines[\"left\"].set_visible(False)\n",
    "ax.get_xaxis().tick_bottom()    \n",
    "ax.get_yaxis().tick_left()\n",
    "plt.yticks(fontsize=14)\n",
    "plt.xticks(fontsize=14)\n",
    "plt.plot(x,y,lw=2.5,color=tableau20[0])\n",
    "plt.scatter(x,y,color=tableau20[2])\n",
    "plt.title('Confirmation of Ohm\\'s law',fontsize=20)\n",
    "plt.xlabel('Current(amps)',fontsize=20)\n",
    "plt.ylabel('Voltage(volts)',fontsize=20)\n",
    "plt.text(x[-1]+.1,y[-1],'r^2 = 1', fontsize=20, color=tableau20[0])\n",
    "\n",
    "plt.savefig('ohmslaw.png',bbow_inches='tight')"
   ]
  },
  {
   "cell_type": "code",
   "execution_count": null,
   "metadata": {
    "collapsed": true
   },
   "outputs": [],
   "source": []
  }
 ],
 "metadata": {
  "kernelspec": {
   "display_name": "Python 2",
   "language": "python",
   "name": "python2"
  },
  "language_info": {
   "codemirror_mode": {
    "name": "ipython",
    "version": 2
   },
   "file_extension": ".py",
   "mimetype": "text/x-python",
   "name": "python",
   "nbconvert_exporter": "python",
   "pygments_lexer": "ipython2",
   "version": "2.7.11"
  }
 },
 "nbformat": 4,
 "nbformat_minor": 0
}
